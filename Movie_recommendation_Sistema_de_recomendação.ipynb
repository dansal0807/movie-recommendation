{
  "nbformat": 4,
  "nbformat_minor": 0,
  "metadata": {
    "colab": {
      "name": "Movie-recommendation: Sistema de recomendação.ipynb",
      "provenance": []
    },
    "kernelspec": {
      "name": "python3",
      "display_name": "Python 3"
    },
    "language_info": {
      "name": "python"
    }
  },
  "cells": [
    {
      "cell_type": "markdown",
      "source": [
        "# Etapa 4: Implementação do Sistema de Recomendação\n",
        "Os dados utilizados nesse notebook foram coletados diretamente da API TMDB e foram disponibilizados no formato CSV.\n"
      ],
      "metadata": {
        "id": "gUyOUYG5y3Dn"
      }
    }
  ]
}