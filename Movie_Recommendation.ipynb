{
  "nbformat": 4,
  "nbformat_minor": 0,
  "metadata": {
    "colab": {
      "name": "Movie-Recommendation.ipynb",
      "provenance": []
    },
    "kernelspec": {
      "name": "python3",
      "display_name": "Python 3"
    },
    "language_info": {
      "name": "python"
    }
  },
  "cells": [
    {
      "cell_type": "code",
      "execution_count": null,
      "metadata": {
        "colab": {
          "base_uri": "https://localhost:8080/"
        },
        "id": "wMCxHqOlKZ3x",
        "outputId": "c7fdc972-cc44-4802-cd93-068bdbeafd57"
      },
      "outputs": [
        {
          "output_type": "stream",
          "name": "stdout",
          "text": [
            "Collecting tmdbv3api\n",
            "  Downloading tmdbv3api-1.7.6-py2.py3-none-any.whl (17 kB)\n",
            "Requirement already satisfied: requests in /usr/local/lib/python3.7/dist-packages (from tmdbv3api) (2.23.0)\n",
            "Requirement already satisfied: urllib3!=1.25.0,!=1.25.1,<1.26,>=1.21.1 in /usr/local/lib/python3.7/dist-packages (from requests->tmdbv3api) (1.24.3)\n",
            "Requirement already satisfied: chardet<4,>=3.0.2 in /usr/local/lib/python3.7/dist-packages (from requests->tmdbv3api) (3.0.4)\n",
            "Requirement already satisfied: idna<3,>=2.5 in /usr/local/lib/python3.7/dist-packages (from requests->tmdbv3api) (2.10)\n",
            "Requirement already satisfied: certifi>=2017.4.17 in /usr/local/lib/python3.7/dist-packages (from requests->tmdbv3api) (2021.10.8)\n",
            "Installing collected packages: tmdbv3api\n",
            "Successfully installed tmdbv3api-1.7.6\n"
          ]
        }
      ],
      "source": [
        "!pip install tmdbv3api\n",
        "\n",
        " "
      ]
    },
    {
      "cell_type": "code",
      "source": [
        "import pandas as pd\n",
        "import requests\n",
        "import json\n",
        "\n",
        "from tmdbv3api import Movie, TMDb"
      ],
      "metadata": {
        "id": "0y1wzZ8xTpV4"
      },
      "execution_count": null,
      "outputs": []
    },
    {
      "cell_type": "markdown",
      "source": [
        "#1º Parte: Coleta de Dados\n",
        "Nessa parte iremos buscar os filmes atualizados do IMDB e, em seguida, iremos passá-los para um arquivo CSV."
      ],
      "metadata": {
        "id": "RVikfqnoMCmz"
      }
    },
    {
      "cell_type": "code",
      "source": [
        "tmdb = TMDb()\n",
        "tmdb.api_key = \"6c7fe2d7eeb02195b49f11e07a02fb2d\"\n"
      ],
      "metadata": {
        "id": "w5AQZmHNLzia"
      },
      "execution_count": null,
      "outputs": []
    },
    {
      "cell_type": "code",
      "source": [
        "request = requests.get(api_request)\n",
        "dict_movie = json.loads(request.text)\n"
      ],
      "metadata": {
        "id": "oLxhiOJ4Ailo"
      },
      "execution_count": null,
      "outputs": []
    },
    {
      "cell_type": "markdown",
      "source": [
        "Compreendendo melhor a estrutura do dataset:"
      ],
      "metadata": {
        "id": "DnllDwUPAbs_"
      }
    },
    {
      "cell_type": "code",
      "source": [
        "df = pd.read_csv(\"movies_metadata.csv\")"
      ],
      "metadata": {
        "colab": {
          "base_uri": "https://localhost:8080/"
        },
        "id": "sHmSiUaFORBq",
        "outputId": "166ba72b-319c-414a-cb0b-b92f308c5bf9"
      },
      "execution_count": null,
      "outputs": [
        {
          "output_type": "stream",
          "name": "stdout",
          "text": [
            "2020\n"
          ]
        },
        {
          "output_type": "stream",
          "name": "stderr",
          "text": [
            "/usr/local/lib/python3.7/dist-packages/IPython/core/interactiveshell.py:2718: DtypeWarning: Columns (10) have mixed types.Specify dtype option on import or set low_memory=False.\n",
            "  interactivity=interactivity, compiler=compiler, result=result)\n"
          ]
        }
      ]
    },
    {
      "cell_type": "code",
      "source": [
        "#buscando o último ano em que o dataset foi atualizado:\n",
        "years = df['release_date'].dropna()\n",
        "years_list = []\n",
        "\n",
        "for year in years:\n",
        "  year = str(year).split('-')\n",
        "  year = year[0]\n",
        "  yearss.append(int(year))\n",
        "  \n",
        "print(max(yearss))"
      ],
      "metadata": {
        "id": "hEo5Dg7kSQlc",
        "outputId": "d8673f41-5dc6-4063-fd17-e9417b604345",
        "colab": {
          "base_uri": "https://localhost:8080/"
        }
      },
      "execution_count": null,
      "outputs": [
        {
          "output_type": "stream",
          "name": "stdout",
          "text": [
            "2020\n"
          ]
        }
      ]
    },
    {
      "cell_type": "code",
      "source": [
        ""
      ],
      "metadata": {
        "id": "xEoyUzpDSRkO"
      },
      "execution_count": null,
      "outputs": []
    }
  ]
}